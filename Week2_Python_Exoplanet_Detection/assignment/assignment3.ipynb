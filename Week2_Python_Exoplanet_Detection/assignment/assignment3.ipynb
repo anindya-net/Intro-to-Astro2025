{
 "cells": [
  {
   "cell_type": "code",
   "execution_count": 2,
   "id": "3027624a-c992-4bc8-90e3-dd28e3c0a700",
   "metadata": {},
   "outputs": [
    {
     "name": "stdin",
     "output_type": "stream",
     "text": [
      "Type the number of terms in integer: 20\n"
     ]
    },
    {
     "name": "stdout",
     "output_type": "stream",
     "text": [
      "0\n",
      "1\n",
      "1\n",
      "2\n",
      "3\n",
      "5\n",
      "8\n",
      "13\n",
      "21\n",
      "34\n",
      "55\n",
      "89\n",
      "144\n",
      "233\n",
      "377\n",
      "610\n",
      "987\n",
      "1597\n",
      "2584\n",
      "4181\n"
     ]
    }
   ],
   "source": [
    "#3. Fibonacci Series Calculator\n",
    "# for 20 terms\n",
    "\n",
    "n=int(input(\"Type the number of terms in integer:\"))\n",
    "\n",
    "a=0\n",
    "b=1\n",
    "print(a)\n",
    "print(b)\n",
    "\n",
    "for i in range(n-2):\n",
    "      c=a+b\n",
    "      print(c)\n",
    "      a = b\n",
    "      b = c"
   ]
  }
 ],
 "metadata": {
  "kernelspec": {
   "display_name": "Python 3 (ipykernel)",
   "language": "python",
   "name": "python3"
  },
  "language_info": {
   "codemirror_mode": {
    "name": "ipython",
    "version": 3
   },
   "file_extension": ".py",
   "mimetype": "text/x-python",
   "name": "python",
   "nbconvert_exporter": "python",
   "pygments_lexer": "ipython3",
   "version": "3.13.5"
  }
 },
 "nbformat": 4,
 "nbformat_minor": 5
}
